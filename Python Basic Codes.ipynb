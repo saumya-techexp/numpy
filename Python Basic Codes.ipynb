{
 "cells": [
  {
   "cell_type": "code",
   "execution_count": 13,
   "id": "09f5939d",
   "metadata": {},
   "outputs": [
    {
     "name": "stdout",
     "output_type": "stream",
     "text": [
      "Hello World!\n"
     ]
    }
   ],
   "source": [
    "#Program to print Hello World\n",
    "print(\"Hello World!\")"
   ]
  },
  {
   "cell_type": "code",
   "execution_count": 16,
   "id": "c1c7c7dd",
   "metadata": {},
   "outputs": [
    {
     "name": "stdout",
     "output_type": "stream",
     "text": [
      "Enter first number: 6\n",
      "Enter second number: 4\n",
      "Sum of 6 & 4 = 10\n"
     ]
    }
   ],
   "source": [
    "#Program to calculate sum of two numbers\n",
    "n1 = input(\"Enter first number: \")\n",
    "n2 = input(\"Enter second number: \")\n",
    "sum = int(n1)+int(n2)\n",
    "print(\"Sum of \" + n1 + \" & \" + n2 + \" = \" + str(sum))"
   ]
  },
  {
   "cell_type": "code",
   "execution_count": 3,
   "id": "5c867426",
   "metadata": {},
   "outputs": [
    {
     "name": "stdout",
     "output_type": "stream",
     "text": [
      "Enter radius: 3\n",
      "Area = 28.274333882308138\n",
      "circumference = 18.84955592153876\n"
     ]
    }
   ],
   "source": [
    "#Program to find area and circumference of circle\n",
    "import math\n",
    "r = input(\"Enter radius: \")\n",
    "area = math.pi*float(r)**2\n",
    "cir = 2*math.pi*float(r)\n",
    "print(\"Area = \" + str(area))\n",
    "print(\"circumference = \" + str(cir))"
   ]
  },
  {
   "cell_type": "code",
   "execution_count": 25,
   "id": "e1eedc86",
   "metadata": {},
   "outputs": [
    {
     "name": "stdout",
     "output_type": "stream",
     "text": [
      "Enter principle amount: 15000\n",
      "Enter rate of interest: 2\n",
      "Enter no. of years: 2\n",
      "Simple Interest = 600.0\n"
     ]
    }
   ],
   "source": [
    "#Program to find simple interest\n",
    "p = float(input(\"Enter principle amount: \"))\n",
    "r = float(input(\"Enter rate of interest: \"))\n",
    "n = int(input(\"Enter no. of years: \"))\n",
    "si = (p*r*n)/100\n",
    "print(\"Simple Interest = \" + str(si))"
   ]
  },
  {
   "cell_type": "code",
   "execution_count": 26,
   "id": "9e363da9",
   "metadata": {},
   "outputs": [
    {
     "name": "stdout",
     "output_type": "stream",
     "text": [
      "Enter temperature in degree centigrade: 98\n",
      "98.0 in degree fahrenheit = 208.4\n"
     ]
    }
   ],
   "source": [
    "#Program to convert temperature from degree centigrade to degree fahrenheit\n",
    "temp = float(input(\"Enter temperature in degree centigrade: \"))\n",
    "conv = (temp*1.8)+32\n",
    "print(str(temp) + \" in degree fahrenheit = \" + str(conv))"
   ]
  },
  {
   "cell_type": "code",
   "execution_count": 28,
   "id": "888abb4f",
   "metadata": {},
   "outputs": [
    {
     "name": "stdout",
     "output_type": "stream",
     "text": [
      "40\n",
      "60\n",
      "80\n",
      "90\n",
      "45\n",
      "Total marks= 315.0\n",
      "Percentage = 63.0\n"
     ]
    }
   ],
   "source": [
    "#Prohgram to print the marksheet of a student\n",
    "marks=[]\n",
    "total=0\n",
    "for i in range(0,5):\n",
    "    list=float(input())\n",
    "    marks.append(list)\n",
    "    total=total+marks[i]\n",
    "per=(total/500)*100\n",
    "print(\"Total marks= \" + str(total))\n",
    "print(\"Percentage = \" + str(per))"
   ]
  },
  {
   "cell_type": "code",
   "execution_count": 31,
   "id": "b8a9b389",
   "metadata": {},
   "outputs": [
    {
     "name": "stdout",
     "output_type": "stream",
     "text": [
      "Enter first number: 4\n",
      "Enter second number: 8\n",
      "Before swapping \n",
      " a=4\t b=8\n",
      "After swapping \n",
      " a=8\t b=4\n"
     ]
    }
   ],
   "source": [
    "#Program to swap two numbers using third variable\n",
    "a = int(input(\"Enter first number: \"))\n",
    "b = int(input(\"Enter second number: \"))\n",
    "print(\"Before swapping \\n a=\" + str(a) + \"\\t b=\" + str(b))\n",
    "c=a\n",
    "a=b\n",
    "b=c\n",
    "print(\"After swapping \\n a=\" + str(a) + \"\\t b=\" + str(b))"
   ]
  },
  {
   "cell_type": "code",
   "execution_count": 33,
   "id": "2f1ce630",
   "metadata": {},
   "outputs": [
    {
     "name": "stdout",
     "output_type": "stream",
     "text": [
      "Enter first number: 12\n",
      "Enter second number: 45\n",
      "Before swapping \n",
      " a=12\t b=45\n",
      "After swapping \n",
      " a=45\t b=12\n"
     ]
    }
   ],
   "source": [
    "#Program to swap two numbers without using third variable\n",
    "a = int(input(\"Enter first number: \"))\n",
    "b = int(input(\"Enter second number: \"))\n",
    "print(\"Before swapping \\n a=\" + str(a) + \"\\t b=\" + str(b))\n",
    "a = a+b\n",
    "b = a-b\n",
    "a = a-b\n",
    "print(\"After swapping \\n a=\" + str(a) + \"\\t b=\" + str(b))"
   ]
  },
  {
   "cell_type": "code",
   "execution_count": 36,
   "id": "fc684aee",
   "metadata": {},
   "outputs": [
    {
     "name": "stdout",
     "output_type": "stream",
     "text": [
      "Enter basic salary: 75000\n",
      "Dearness Allowance is 10%\n",
      "House Rent Allowance is 12%\n",
      "Dearness Allowance = 7500.0\n",
      "House Rent Allowance = 9000.0\n",
      "Gross Salary = 91500.0\n"
     ]
    }
   ],
   "source": [
    "#Program to calculate gross salary\n",
    "bsal = float(input(\"Enter basic salary: \"))\n",
    "print(\"Dearness Allowance is 10%\")\n",
    "print(\"House Rent Allowance is 12%\")\n",
    "da = (10*bsal)/100\n",
    "hra = (12*bsal)/100\n",
    "print(\"Dearness Allowance = \" + str(da))\n",
    "print(\"House Rent Allowance = \" + str(hra))\n",
    "grs = bsal + da + hra\n",
    "print(\"Gross Salary = \" + str(grs))"
   ]
  },
  {
   "cell_type": "code",
   "execution_count": 41,
   "id": "7610c160",
   "metadata": {},
   "outputs": [
    {
     "name": "stdout",
     "output_type": "stream",
     "text": [
      "Enter first number: 12\n",
      "Enter second number: 43\n",
      "43 is greater than 12\n"
     ]
    }
   ],
   "source": [
    "#Program to find greatest of two numbers\n",
    "a = input(\"Enter first number: \")\n",
    "b = input(\"Enter second number: \")\n",
    "if a>b:\n",
    "    print(a + \" is greater than \" + b)\n",
    "elif a<b:\n",
    "    print(b + \" is greater than \" + a)\n",
    "else:\n",
    "    print(a + \" and \" + b + \" are equal.\")"
   ]
  },
  {
   "cell_type": "code",
   "execution_count": 54,
   "id": "4ee23379",
   "metadata": {},
   "outputs": [
    {
     "name": "stdout",
     "output_type": "stream",
     "text": [
      "Enter number of days: 365\n",
      "365 days in week = 52.142857142857146\n",
      "365 days in year = 1.0\n"
     ]
    }
   ],
   "source": [
    "#Program to convert days into weeks and years\n",
    "days = input(\"Enter number of days: \")\n",
    "week = int(days)/7\n",
    "year = int(days)/365\n",
    "print(days + \" days in week = \" + str(week))\n",
    "print(days + \" days in year = \" + str(year))"
   ]
  },
  {
   "cell_type": "code",
   "execution_count": 50,
   "id": "6557755d",
   "metadata": {},
   "outputs": [
    {
     "name": "stdout",
     "output_type": "stream",
     "text": [
      "Enter seconds: 4500\n",
      "4500 seconds in minutes = 75.0\n",
      "4500 seconds in hours = 1.25\n"
     ]
    }
   ],
   "source": [
    "#Program to convert seconds into minutes and hours\n",
    "sec = input(\"Enter seconds: \")\n",
    "min = int(sec) /60\n",
    "hrs = int(sec) /3600\n",
    "print(sec + \" seconds in minutes = \" + str(min))\n",
    "print(sec + \" seconds in hours = \" + str(hrs))"
   ]
  },
  {
   "cell_type": "code",
   "execution_count": 58,
   "id": "7d22b64c",
   "metadata": {},
   "outputs": [
    {
     "name": "stdout",
     "output_type": "stream",
     "text": [
      "Enter value of x: 2\n",
      "Enter value of y: 3\n",
      "Value of c = 28\n"
     ]
    }
   ],
   "source": [
    "#Program to solve the equation c=ax+by where a=5,b=6\n",
    "x = input(\"Enter value of x: \")\n",
    "y = input(\"Enter value of y: \")\n",
    "a = 5\n",
    "b = 6\n",
    "c = (a*int(x)) + (b*int(y))\n",
    "print(\"Value of c = \" + str(c))"
   ]
  },
  {
   "cell_type": "code",
   "execution_count": 59,
   "id": "24efdeb3",
   "metadata": {},
   "outputs": [
    {
     "name": "stdout",
     "output_type": "stream",
     "text": [
      "Enter a name: Saumya Deep\n",
      "Hello Saumya Deep\n"
     ]
    }
   ],
   "source": [
    "#Program to take a name from the user\n",
    "name = input(\"Enter a name: \")\n",
    "print(\"Hello \" + name)"
   ]
  },
  {
   "cell_type": "code",
   "execution_count": 67,
   "id": "4f71957e",
   "metadata": {},
   "outputs": [
    {
     "name": "stdout",
     "output_type": "stream",
     "text": [
      "Enter a number: 57\n",
      "57 is odd number.\n"
     ]
    }
   ],
   "source": [
    "#Program to check the given no. is odd or even\n",
    "n = input(\"Enter a number: \")\n",
    "if int(n)%2==0:\n",
    "    print(n + \" is a even number.\")\n",
    "else:\n",
    "    print(n + \" is odd number.\")"
   ]
  },
  {
   "cell_type": "code",
   "execution_count": 75,
   "id": "1abd447a",
   "metadata": {},
   "outputs": [
    {
     "name": "stdout",
     "output_type": "stream",
     "text": [
      "Enter a year: 2036\n",
      "2036 is a leap year.\n"
     ]
    }
   ],
   "source": [
    "#Program to check whether entered year is leap year or not\n",
    "year = int(input(\"Enter a year: \"))\n",
    "if year%400==0:\n",
    "    print(str(year) + \" is a leap year.\")\n",
    "elif year%4==0 and year%100!=0:\n",
    "    print(str(year) + \" is a leap year.\")\n",
    "else:\n",
    "    print(str(year) + \" is not a leap year.\")"
   ]
  },
  {
   "cell_type": "code",
   "execution_count": 79,
   "id": "992ee88a",
   "metadata": {},
   "outputs": [
    {
     "name": "stdout",
     "output_type": "stream",
     "text": [
      "Enter a number: 45\n",
      "45 is divisible by 5.\n"
     ]
    }
   ],
   "source": [
    "#Program to check whether the given number is divisible by 5 or not\n",
    "n = input(\"Enter a number: \")\n",
    "if int(n)%5==0:\n",
    "    print(n + \" is divisible by 5.\")\n",
    "else:\n",
    "    print(n + \" is not divisible by 5.\")"
   ]
  },
  {
   "cell_type": "code",
   "execution_count": 92,
   "id": "f945a753",
   "metadata": {},
   "outputs": [
    {
     "name": "stdout",
     "output_type": "stream",
     "text": [
      "Enter a no.: 19263\n",
      "Sum of digits of 19263 = 21\n"
     ]
    }
   ],
   "source": [
    "#Program to calculate sum of digits of the given number\n",
    "num = input(\"Enter a no.: \")\n",
    "n = int(num)\n",
    "sum = 0\n",
    "while n!=0:\n",
    "    rem = int(n%10)\n",
    "    sum = sum + rem\n",
    "    n = int(n/10)\n",
    "print(\"Sum of digits of \" + num + \" = \" + str(sum))"
   ]
  },
  {
   "cell_type": "code",
   "execution_count": 95,
   "id": "1dd8a9f7",
   "metadata": {
    "scrolled": true
   },
   "outputs": [
    {
     "name": "stdout",
     "output_type": "stream",
     "text": [
      "First 10 natural numbers: \n",
      "1\n",
      "2\n",
      "3\n",
      "4\n",
      "5\n",
      "6\n",
      "7\n",
      "8\n",
      "9\n",
      "10\n",
      "Sum of first 10 natural numbers = 55\n"
     ]
    }
   ],
   "source": [
    "#Program to display 10 natural numbers and their sum\n",
    "sum = 0\n",
    "print(\"First 10 natural numbers: \")\n",
    "for i in range(1,11):\n",
    "    print(i)\n",
    "    sum = sum + i\n",
    "print(\"Sum of first 10 natural numbers = \" + str(sum))"
   ]
  },
  {
   "cell_type": "code",
   "execution_count": 21,
   "id": "7b966653",
   "metadata": {
    "scrolled": true
   },
   "outputs": [
    {
     "name": "stdout",
     "output_type": "stream",
     "text": [
      "Enter the limit: 100\n",
      "Fibonacci Series: 0 1 1 2 3 5 8 13 21 34 55 89 "
     ]
    }
   ],
   "source": [
    "#Program to print fibonacci series\n",
    "limit = int(input(\"Enter the limit: \"))\n",
    "a = 0\n",
    "b = 1\n",
    "sum = 0\n",
    "print(\"Fibonacci Series: \" + str(a) + \" \" + str(b),end=\" \")\n",
    "while sum<limit:\n",
    "    sum = a + b\n",
    "    if sum>=limit:\n",
    "        break\n",
    "    else:\n",
    "        print(sum,end=\" \")\n",
    "    a = b\n",
    "    b = sum"
   ]
  },
  {
   "cell_type": "code",
   "execution_count": 3,
   "id": "8a5068b3",
   "metadata": {},
   "outputs": [
    {
     "name": "stdout",
     "output_type": "stream",
     "text": [
      "Enter a number: 5\n",
      "Factorial of 5 = 120\n"
     ]
    }
   ],
   "source": [
    "#Program to find factorial of a number\n",
    "n = input(\"Enter a number: \")\n",
    "fact = 1\n",
    "for i in range(1,int(n)+1):\n",
    "    fact = fact * i\n",
    "print(\"Factorial of \" + n + \" = \" + str(fact))"
   ]
  },
  {
   "cell_type": "code",
   "execution_count": 10,
   "id": "f1cff447",
   "metadata": {},
   "outputs": [
    {
     "name": "stdout",
     "output_type": "stream",
     "text": [
      "Enter a number: 23\n",
      "23 is a prime number.\n"
     ]
    }
   ],
   "source": [
    "#Program to check whether the given number is prime or not\n",
    "n = input(\"Enter a number: \")\n",
    "c = 0\n",
    "for i in range(1,int(n)+1):\n",
    "    if int(n)%i==0:\n",
    "        c = c+1\n",
    "if c==2:\n",
    "    print(n + \" is a prime number.\")\n",
    "elif int(n)==1:\n",
    "    print(n + \" is neither prime nor composite.\")\n",
    "else:\n",
    "    print(n + \" is not a prime number.\")"
   ]
  },
  {
   "cell_type": "code",
   "execution_count": 4,
   "id": "362cb181",
   "metadata": {},
   "outputs": [
    {
     "name": "stdout",
     "output_type": "stream",
     "text": [
      "Prime numbers from 1-100\n",
      "1 is neither prime nor composite.\n",
      "2 3 5 7 11 13 17 19 23 29 31 37 41 43 47 53 59 61 67 71 73 79 83 89 97 "
     ]
    }
   ],
   "source": [
    "#Program to print prime numbers between 1 to 100\n",
    "c = 0\n",
    "print(\"Prime numbers from 1-100\")\n",
    "print(\"1 is neither prime nor composite.\")\n",
    "for i in range(1,101):\n",
    "    for j in range(1,i+1):\n",
    "        if i%j==0:\n",
    "            c = c+1\n",
    "    if(c==2):\n",
    "        print(i,end=\" \")\n",
    "    c=0"
   ]
  },
  {
   "cell_type": "code",
   "execution_count": 12,
   "id": "42b7ad17",
   "metadata": {},
   "outputs": [
    {
     "name": "stdout",
     "output_type": "stream",
     "text": [
      "Enter the limit: 10\n",
      "Sum of series = 2.9289682539682538\n"
     ]
    }
   ],
   "source": [
    "#Program to calculate sum of series: 1 + 1/2 + 1/3 + ..... + 1/n\n",
    "n = input(\"Enter the limit: \")\n",
    "sum = 0\n",
    "for i in range(1,int(n)+1):\n",
    "    sum = sum + 1/i\n",
    "print(\"Sum of series = \" + str(sum))"
   ]
  },
  {
   "cell_type": "code",
   "execution_count": 12,
   "id": "013d28e8",
   "metadata": {},
   "outputs": [
    {
     "name": "stdout",
     "output_type": "stream",
     "text": [
      "Enter the limit: 10\n",
      "Series:  1 3 5 7 9 \n",
      "Sum of series = 25\n"
     ]
    }
   ],
   "source": [
    "#Program to display series and find sum of: 1 + 3 + 5 + ..... + n\n",
    "n = input(\"Enter the limit: \")\n",
    "sum = 0\n",
    "i = 1\n",
    "print(\"Series: \",end=\" \")\n",
    "while i<=int(n):\n",
    "    print(i,end=\" \")\n",
    "    sum = sum + i\n",
    "    i = i + 2\n",
    "print(\"\\nSum of series = \" + str(sum))"
   ]
  },
  {
   "cell_type": "code",
   "execution_count": 38,
   "id": "b43b95bf",
   "metadata": {
    "scrolled": true
   },
   "outputs": [
    {
     "name": "stdout",
     "output_type": "stream",
     "text": [
      "Enter first number: 5\n",
      "Enter second number: 8\n",
      "Enter third number: 2\n",
      "8 is greatest\n"
     ]
    }
   ],
   "source": [
    "#Program to find greatest of three numbers\n",
    "a = int(input(\"Enter first number: \"))\n",
    "b = int(input(\"Enter second number: \"))\n",
    "c = int(input(\"Enter third number: \"))\n",
    "if a==b and b==c:\n",
    "    print(str(a) + \" \" + str(b) + \" \" + str(c) + \" are equal.\")\n",
    "    print(\"Please enter different numbers to check the greatest.\")\n",
    "elif a>b:\n",
    "    if a>c:\n",
    "        print(str(a) + \" is greatest\")\n",
    "    else:\n",
    "        print(str(c) + \" is greatest\")\n",
    "else:\n",
    "    if b>c:\n",
    "        print(str(b) + \" is greatest\")\n",
    "    else:\n",
    "        print(str(c) + \" is greatest\")"
   ]
  },
  {
   "cell_type": "code",
   "execution_count": 16,
   "id": "00a0b9d9",
   "metadata": {},
   "outputs": [
    {
     "name": "stdout",
     "output_type": "stream",
     "text": [
      "Enter a number: 47238\n",
      "Reverse of 47238 = 83274\n"
     ]
    }
   ],
   "source": [
    "#Program to reverse digits of the given number\n",
    "num = input(\"Enter a number: \")\n",
    "n = int(num)\n",
    "rev = 0\n",
    "while n>1:\n",
    "    rem = int(n)%10\n",
    "    rev = rev*10+rem\n",
    "    n = int(n)/10\n",
    "print(\"Reverse of \" + num + \" = \" + str(rev))"
   ]
  },
  {
   "cell_type": "code",
   "execution_count": 51,
   "id": "a0fe0798",
   "metadata": {},
   "outputs": [
    {
     "name": "stdout",
     "output_type": "stream",
     "text": [
      "Enter a number: 17\n",
      "Multiplication table of 17\n",
      "17x1=17\n",
      "17x2=34\n",
      "17x3=51\n",
      "17x4=68\n",
      "17x5=85\n",
      "17x6=102\n",
      "17x7=119\n",
      "17x8=136\n",
      "17x9=153\n",
      "17x10=170\n"
     ]
    }
   ],
   "source": [
    "#Program to print multiplication table of the given number\n",
    "n = input(\"Enter a number: \")\n",
    "print(\"Multiplication table of \" + n)\n",
    "for i in range(1,11):\n",
    "    mul = int(n)*i\n",
    "    print(n + \"x\" + str(i) + \"=\" + str(mul))"
   ]
  },
  {
   "cell_type": "code",
   "execution_count": 59,
   "id": "e14e6508",
   "metadata": {},
   "outputs": [
    {
     "name": "stdout",
     "output_type": "stream",
     "text": [
      "Enter a number: 6\n",
      "6 is a perfect number.\n"
     ]
    }
   ],
   "source": [
    "#Program to find perfect number\n",
    "def perfect(n):\n",
    "    sum = 0\n",
    "    for i in range(1,n):\n",
    "        if n%i==0:\n",
    "            sum = sum + i\n",
    "    return sum\n",
    "\n",
    "num = int(input(\"Enter a number: \"))\n",
    "if perfect(num)==num:\n",
    "    print(str(num) + \" is a perfect number.\")\n",
    "else:\n",
    "    print(str(num) + \" is not a perfect number.\")"
   ]
  },
  {
   "cell_type": "code",
   "execution_count": 68,
   "id": "eae82a2e",
   "metadata": {},
   "outputs": [
    {
     "name": "stdout",
     "output_type": "stream",
     "text": [
      "Enter first number: 24\n",
      "Enter second number: 44\n",
      "4 is the greatest common divisior of 24 & 44\n"
     ]
    }
   ],
   "source": [
    "#Program to find GCD of two numbers\n",
    "n1 = int(input(\"Enter first number: \"))\n",
    "n2 = int(input(\"Enter second number: \"))\n",
    "for i in range(1,n1+1):\n",
    "    for j in range(1,n2+1):\n",
    "        if n1%i==0 and n2%i==0:\n",
    "            gcd=i\n",
    "print(str(gcd) + \" is the greatest common divisior of \" + str(n1) + \" & \" + str(n2))"
   ]
  },
  {
   "cell_type": "code",
   "execution_count": 81,
   "id": "b824a182",
   "metadata": {},
   "outputs": [
    {
     "name": "stdout",
     "output_type": "stream",
     "text": [
      "Enter range: 6\n",
      "12\n",
      "5\n",
      "78\n",
      "34\n",
      "2\n",
      "53\n",
      "Sorted Elements in assending order\n",
      "[2, 5, 12, 34, 53, 78]\n",
      "Sorted Elements in descending order\n",
      "[78, 53, 34, 12, 5, 2]\n"
     ]
    }
   ],
   "source": [
    "#Program to display and sort list elements\n",
    "list = []\n",
    "n = int(input(\"Enter range: \"))\n",
    "for i in range(0,n):\n",
    "    ele = int(input())\n",
    "    list.append(ele)\n",
    "list.sort()\n",
    "print(\"Sorted Elements in assending order\")\n",
    "print(list)\n",
    "list.reverse()\n",
    "print(\"Sorted Elements in descending order\")\n",
    "print(list)"
   ]
  },
  {
   "cell_type": "code",
   "execution_count": 91,
   "id": "782e03cc",
   "metadata": {},
   "outputs": [
    {
     "name": "stdout",
     "output_type": "stream",
     "text": [
      "Enter a string: malayalam\n",
      "malayalam is a palindrome string.\n"
     ]
    }
   ],
   "source": [
    "#Program to check entered string is palindrome or not without using function\n",
    "s1 = input(\"Enter a string: \")\n",
    "s2 = s1[::-1]\n",
    "if s1==s2:\n",
    "    print(s1 + \" is a palindrome string.\")\n",
    "else:\n",
    "    print(s1 +\" is not a palindrome string.\")"
   ]
  },
  {
   "cell_type": "code",
   "execution_count": 94,
   "id": "fa00ded4",
   "metadata": {},
   "outputs": [
    {
     "name": "stdout",
     "output_type": "stream",
     "text": [
      "Enter a string: level\n",
      "level is a palindrome string.\n"
     ]
    }
   ],
   "source": [
    "#Program to check entered string is palindrome or not using function\n",
    "def ispalin(s):\n",
    "    return s==s[::-1]\n",
    "s = input(\"Enter a string: \")\n",
    "if ispalin(s):\n",
    "    print(s + \" is a palindrome string.\")\n",
    "else:\n",
    "    print(s + \" is not a palindrome string.\")"
   ]
  },
  {
   "cell_type": "code",
   "execution_count": 106,
   "id": "ee0a52a5",
   "metadata": {},
   "outputs": [
    {
     "name": "stdout",
     "output_type": "stream",
     "text": [
      "1 \r\n",
      "1 2 \r\n",
      "1 2 3 \r\n"
     ]
    }
   ],
   "source": [
    "#Program to print the following pattern\n",
    "#1\n",
    "#12\n",
    "#123\n",
    "\n",
    "for i in range(1,4):\n",
    "    for j in range(1,i+1):\n",
    "        print(j,end=\" \")\n",
    "    print(\"\\r\")"
   ]
  },
  {
   "cell_type": "code",
   "execution_count": 112,
   "id": "1378c4f2",
   "metadata": {},
   "outputs": [
    {
     "name": "stdout",
     "output_type": "stream",
     "text": [
      "1 \r\n",
      "2 3 \r\n",
      "4 5 6 \r\n"
     ]
    }
   ],
   "source": [
    "#Program to print the following pattern\n",
    "#1\n",
    "#23\n",
    "#456\n",
    "\n",
    "n = 1\n",
    "for i in range(1,4):\n",
    "    for j in range(1,i+1):\n",
    "        print(n,end=\" \")\n",
    "        n = n + 1\n",
    "    print(\"\\r\")"
   ]
  },
  {
   "cell_type": "code",
   "execution_count": 128,
   "id": "ad1adc6e",
   "metadata": {},
   "outputs": [
    {
     "name": "stdout",
     "output_type": "stream",
     "text": [
      "   * \r\n",
      "  * * \r\n",
      " * * * \r\n"
     ]
    }
   ],
   "source": [
    "#Program to print the following pattern\n",
    "#  *\n",
    "# * *\n",
    "#* * *\n",
    "\n",
    "for i in range(1,4):\n",
    "    for j in range(i,4):\n",
    "        print(end=\" \")\n",
    "    for k in range(1,i+1):\n",
    "        print(\"* \",end=\"\")\n",
    "    print(\"\\r\")"
   ]
  },
  {
   "cell_type": "code",
   "execution_count": 135,
   "id": "be4094ab",
   "metadata": {},
   "outputs": [
    {
     "name": "stdout",
     "output_type": "stream",
     "text": [
      "55555\r\n",
      " 4444\r\n",
      "  333\r\n",
      "   22\r\n",
      "    1\r\n"
     ]
    }
   ],
   "source": [
    "#Program to print the following pattern\n",
    "#55555\n",
    "# 4444\n",
    "#  333\n",
    "#   22\n",
    "#    1\n",
    "\n",
    "for i in range(5,0,-1):\n",
    "    for j in range(5,i,-1):\n",
    "        print(end=\" \")\n",
    "    for k in range(i,0,-1):\n",
    "        print(i,end=\"\")\n",
    "    print(\"\\r\")"
   ]
  },
  {
   "cell_type": "code",
   "execution_count": 140,
   "id": "4b3074f4",
   "metadata": {},
   "outputs": [
    {
     "name": "stdout",
     "output_type": "stream",
     "text": [
      "Multiplication table of 1\n",
      "1 x 1 = 1\n",
      "1 x 2 = 2\n",
      "1 x 3 = 3\n",
      "1 x 4 = 4\n",
      "1 x 5 = 5\n",
      "1 x 6 = 6\n",
      "1 x 7 = 7\n",
      "1 x 8 = 8\n",
      "1 x 9 = 9\n",
      "1 x 10 = 10\n",
      "\r\n",
      "Multiplication table of 2\n",
      "2 x 1 = 2\n",
      "2 x 2 = 4\n",
      "2 x 3 = 6\n",
      "2 x 4 = 8\n",
      "2 x 5 = 10\n",
      "2 x 6 = 12\n",
      "2 x 7 = 14\n",
      "2 x 8 = 16\n",
      "2 x 9 = 18\n",
      "2 x 10 = 20\n",
      "\r\n",
      "Multiplication table of 3\n",
      "3 x 1 = 3\n",
      "3 x 2 = 6\n",
      "3 x 3 = 9\n",
      "3 x 4 = 12\n",
      "3 x 5 = 15\n",
      "3 x 6 = 18\n",
      "3 x 7 = 21\n",
      "3 x 8 = 24\n",
      "3 x 9 = 27\n",
      "3 x 10 = 30\n",
      "\r\n",
      "Multiplication table of 4\n",
      "4 x 1 = 4\n",
      "4 x 2 = 8\n",
      "4 x 3 = 12\n",
      "4 x 4 = 16\n",
      "4 x 5 = 20\n",
      "4 x 6 = 24\n",
      "4 x 7 = 28\n",
      "4 x 8 = 32\n",
      "4 x 9 = 36\n",
      "4 x 10 = 40\n",
      "\r\n",
      "Multiplication table of 5\n",
      "5 x 1 = 5\n",
      "5 x 2 = 10\n",
      "5 x 3 = 15\n",
      "5 x 4 = 20\n",
      "5 x 5 = 25\n",
      "5 x 6 = 30\n",
      "5 x 7 = 35\n",
      "5 x 8 = 40\n",
      "5 x 9 = 45\n",
      "5 x 10 = 50\n",
      "\r\n",
      "Multiplication table of 6\n",
      "6 x 1 = 6\n",
      "6 x 2 = 12\n",
      "6 x 3 = 18\n",
      "6 x 4 = 24\n",
      "6 x 5 = 30\n",
      "6 x 6 = 36\n",
      "6 x 7 = 42\n",
      "6 x 8 = 48\n",
      "6 x 9 = 54\n",
      "6 x 10 = 60\n",
      "\r\n",
      "Multiplication table of 7\n",
      "7 x 1 = 7\n",
      "7 x 2 = 14\n",
      "7 x 3 = 21\n",
      "7 x 4 = 28\n",
      "7 x 5 = 35\n",
      "7 x 6 = 42\n",
      "7 x 7 = 49\n",
      "7 x 8 = 56\n",
      "7 x 9 = 63\n",
      "7 x 10 = 70\n",
      "\r\n",
      "Multiplication table of 8\n",
      "8 x 1 = 8\n",
      "8 x 2 = 16\n",
      "8 x 3 = 24\n",
      "8 x 4 = 32\n",
      "8 x 5 = 40\n",
      "8 x 6 = 48\n",
      "8 x 7 = 56\n",
      "8 x 8 = 64\n",
      "8 x 9 = 72\n",
      "8 x 10 = 80\n",
      "\r\n",
      "Multiplication table of 9\n",
      "9 x 1 = 9\n",
      "9 x 2 = 18\n",
      "9 x 3 = 27\n",
      "9 x 4 = 36\n",
      "9 x 5 = 45\n",
      "9 x 6 = 54\n",
      "9 x 7 = 63\n",
      "9 x 8 = 72\n",
      "9 x 9 = 81\n",
      "9 x 10 = 90\n",
      "\r\n",
      "Multiplication table of 10\n",
      "10 x 1 = 10\n",
      "10 x 2 = 20\n",
      "10 x 3 = 30\n",
      "10 x 4 = 40\n",
      "10 x 5 = 50\n",
      "10 x 6 = 60\n",
      "10 x 7 = 70\n",
      "10 x 8 = 80\n",
      "10 x 9 = 90\n",
      "10 x 10 = 100\n",
      "\r\n",
      "Multiplication table of 11\n",
      "11 x 1 = 11\n",
      "11 x 2 = 22\n",
      "11 x 3 = 33\n",
      "11 x 4 = 44\n",
      "11 x 5 = 55\n",
      "11 x 6 = 66\n",
      "11 x 7 = 77\n",
      "11 x 8 = 88\n",
      "11 x 9 = 99\n",
      "11 x 10 = 110\n",
      "\r\n",
      "Multiplication table of 12\n",
      "12 x 1 = 12\n",
      "12 x 2 = 24\n",
      "12 x 3 = 36\n",
      "12 x 4 = 48\n",
      "12 x 5 = 60\n",
      "12 x 6 = 72\n",
      "12 x 7 = 84\n",
      "12 x 8 = 96\n",
      "12 x 9 = 108\n",
      "12 x 10 = 120\n",
      "\r\n",
      "Multiplication table of 13\n",
      "13 x 1 = 13\n",
      "13 x 2 = 26\n",
      "13 x 3 = 39\n",
      "13 x 4 = 52\n",
      "13 x 5 = 65\n",
      "13 x 6 = 78\n",
      "13 x 7 = 91\n",
      "13 x 8 = 104\n",
      "13 x 9 = 117\n",
      "13 x 10 = 130\n",
      "\r\n",
      "Multiplication table of 14\n",
      "14 x 1 = 14\n",
      "14 x 2 = 28\n",
      "14 x 3 = 42\n",
      "14 x 4 = 56\n",
      "14 x 5 = 70\n",
      "14 x 6 = 84\n",
      "14 x 7 = 98\n",
      "14 x 8 = 112\n",
      "14 x 9 = 126\n",
      "14 x 10 = 140\n",
      "\r\n",
      "Multiplication table of 15\n",
      "15 x 1 = 15\n",
      "15 x 2 = 30\n",
      "15 x 3 = 45\n",
      "15 x 4 = 60\n",
      "15 x 5 = 75\n",
      "15 x 6 = 90\n",
      "15 x 7 = 105\n",
      "15 x 8 = 120\n",
      "15 x 9 = 135\n",
      "15 x 10 = 150\n",
      "\r\n",
      "Multiplication table of 16\n",
      "16 x 1 = 16\n",
      "16 x 2 = 32\n",
      "16 x 3 = 48\n",
      "16 x 4 = 64\n",
      "16 x 5 = 80\n",
      "16 x 6 = 96\n",
      "16 x 7 = 112\n",
      "16 x 8 = 128\n",
      "16 x 9 = 144\n",
      "16 x 10 = 160\n",
      "\r\n",
      "Multiplication table of 17\n",
      "17 x 1 = 17\n",
      "17 x 2 = 34\n",
      "17 x 3 = 51\n",
      "17 x 4 = 68\n",
      "17 x 5 = 85\n",
      "17 x 6 = 102\n",
      "17 x 7 = 119\n",
      "17 x 8 = 136\n",
      "17 x 9 = 153\n",
      "17 x 10 = 170\n",
      "\r\n",
      "Multiplication table of 18\n",
      "18 x 1 = 18\n",
      "18 x 2 = 36\n",
      "18 x 3 = 54\n",
      "18 x 4 = 72\n",
      "18 x 5 = 90\n",
      "18 x 6 = 108\n",
      "18 x 7 = 126\n",
      "18 x 8 = 144\n",
      "18 x 9 = 162\n",
      "18 x 10 = 180\n",
      "\r\n",
      "Multiplication table of 19\n",
      "19 x 1 = 19\n",
      "19 x 2 = 38\n",
      "19 x 3 = 57\n",
      "19 x 4 = 76\n",
      "19 x 5 = 95\n",
      "19 x 6 = 114\n",
      "19 x 7 = 133\n",
      "19 x 8 = 152\n",
      "19 x 9 = 171\n",
      "19 x 10 = 190\n",
      "\r\n",
      "Multiplication table of 20\n",
      "20 x 1 = 20\n",
      "20 x 2 = 40\n",
      "20 x 3 = 60\n",
      "20 x 4 = 80\n",
      "20 x 5 = 100\n",
      "20 x 6 = 120\n",
      "20 x 7 = 140\n",
      "20 x 8 = 160\n",
      "20 x 9 = 180\n",
      "20 x 10 = 200\n",
      "\r\n"
     ]
    }
   ],
   "source": [
    "#Program to print the multiplication table from 1 to 20.\n",
    "for i in range(1,21):\n",
    "    print(\"Multiplication table of \" + str(i))\n",
    "    for j in range(1,11):\n",
    "        mul = i*j\n",
    "        print(str(i) + \" x \" + str(j) + \" = \" + str(mul))\n",
    "    print(\"\\r\")"
   ]
  }
 ],
 "metadata": {
  "kernelspec": {
   "display_name": "Python 3 (ipykernel)",
   "language": "python",
   "name": "python3"
  },
  "language_info": {
   "codemirror_mode": {
    "name": "ipython",
    "version": 3
   },
   "file_extension": ".py",
   "mimetype": "text/x-python",
   "name": "python",
   "nbconvert_exporter": "python",
   "pygments_lexer": "ipython3",
   "version": "3.9.13"
  }
 },
 "nbformat": 4,
 "nbformat_minor": 5
}
